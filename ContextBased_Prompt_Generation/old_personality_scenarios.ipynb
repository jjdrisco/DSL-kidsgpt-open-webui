{
 "cells": [
  {
   "cell_type": "code",
   "execution_count": 6,
   "id": "71771d04",
   "metadata": {},
   "outputs": [],
   "source": [
    "Extraversion = {'Is outgoing, sociable': ['What are some fun ways to meet new friends?', 'How can I make people laugh when I first meet them?', 'Can you help me write a message to a new friend?', 'What are fun questions to ask someone I just met?', 'How can I get more people to want to hang out with me?', 'What are some funny things I can say to make friends smile?', 'How do I become the most fun person in the class?', 'What should I say when someone invites me to play?', 'Can you help me start a fun group chat with my friends?', 'What should I do if I want to talk to the popular kids?'], 'Is talkative': ['Can you give me some cool stories to tell my friends?', 'What are fun things I can talk about at lunch?', 'Can you teach me a tongue twister to say fast?', 'What are silly jokes I can tell my classmates?', 'Can you help me make up a story to share?', 'How do I get people to listen when I talk?', 'Can you write a funny poem I can read to others?', 'What are some questions I can ask my teacher?', 'How do I talk more in class without getting in trouble?', 'Can you help me practice for a class presentation?'], 'Tends to be quiet': ['What are fun things I can do alone at recess?', 'Can you help me write in a secret journal?', 'What can I do if I feel shy in a big group?', 'How can I make a new friend without talking a lot?', 'What are cool hobbies for quiet kids?', 'Can you help me make a quiet-day plan?', 'How do I talk to people when I feel shy?', 'Can you tell me a story about a quiet hero?', 'What should I do when I want to play but feel nervous?', 'Can you give me calm games I can play by myself?'], 'Is sometimes shy, introverted': ['How can I be brave when I talk to new people?', 'Can you help me feel less scared at school?', 'What are tricks to feel more confident?', 'Can you give me a boost when I feel small?', \"What should I do when I don't want to speak up?\", 'Can you help me prepare for a group project?', \"How do I feel strong even if I'm not loud?\", 'What can I say when I want to join a game?', 'Can you teach me calming breathing tricks?', 'Can you help me make a secret confidence plan?'], 'Has an assertive personality': ['How do I lead a team in a group project?', 'Can you help me sound more confident?', 'How do I make people listen to my idea?', 'Can you help me write a speech to give in class?', 'What do I say if someone copies my idea?', 'How do I win an argument respectfully?', 'What are ways to be a great leader at school?', 'How do I speak up if someone is being unfair?', 'Can you give me brave words to say out loud?', 'What are smart ways to be in charge?'], 'Is dominant, acts as a leader': ['How do I make a great plan for my team?', 'Can you help me be a good leader during a game?', 'What should I say to make others feel included?', 'How do I share my ideas without being bossy?', 'Can you help me write leadership rules for my group?', 'What are ways to lead with kindness?', 'How can I keep my team excited and focused?', 'What should I do if someone doesn’t listen to me?', 'Can you help me make a group project awesome?', 'How do I become class president someday?'], 'Finds it hard to influence people': ['What can I do when nobody listens to my ideas?', 'How do I get my friends to try my favorite game?', 'Can you help me explain things so people understand?', 'What should I say if others ignore me?', 'How do I ask questions without feeling silly?', 'Can you give me ways to be more convincing?', 'What do I do if people don’t follow my lead?', 'How do I handle being in a group with strong voices?', 'Can you help me say things in a powerful way?', 'What are ways I can feel more heard?'], 'Prefers to have others take charge': ['What should I do if I don’t want to be the leader?', 'Can you help me be a great helper instead?', 'How do I support my friends when they lead?', 'What are things I can do in the background?', 'How do I let others lead without feeling left out?', 'What should I say if I don’t want to be captain?', 'Can you help me be a good listener in a group?', 'What are fun jobs for kids who don’t like leading?', 'How do I stay calm when others make decisions?', 'Can you help me enjoy being a team player?'], 'Is full of energy': ['What are games I can play that use lots of energy?', 'Can you make me a super fun activity list?', 'What are fast and fun dares I can try?', 'Can you help me plan an obstacle course?', 'What are things I can do when I feel super bouncy?', 'Can you create a high-speed treasure hunt?', 'What are sports I can try at recess?', 'How do I burn energy before bedtime?', 'Can you teach me silly dance moves?', 'What’s a fun way to race with my friends?'], 'Shows a lot of enthusiasm': ['Can you help me make a cheer for my team?', 'What are fun ways to get excited for school?', 'How do I show my friends I love their ideas?', 'What are things I can say when I’m super happy?', 'Can you make me a celebration song?', 'How do I spread excitement at a birthday party?', 'What are cool ways to share good news?', 'Can you give me silly celebration ideas?', 'How do I keep my energy up all day?', 'Can you help me get my class excited for something?']}\n",
    "\n",
    "Agreeableness = {'Is compassionate, has a soft heart': [\"What can I do to help someone who's sad?\", 'Can you help me write a nice note to a friend?', 'What are kind things I can say to someone?', 'Can you give me a story about someone being really nice?', 'How do I show someone I care about them?', 'What are ways to help people who are hurt or sick?', 'Can I make a card to cheer someone up?', 'What should I do if I see someone being left out?', 'How can I be a good friend today?', 'What are good things to say when someone is upset?'], 'Is helpful and unselfish with others': ['How can I help my teacher in class?', 'What are ways I can help my family today?', 'Can you make a list of good deeds I can do?', 'How do I share my toys nicely?', 'What should I do if someone drops their stuff?', 'Can I be a helper in the kitchen today?', 'How can I be a good teammate?', 'What can I do to make someone smile today?', 'What are fun ways to help my friends?', 'How can I show I care without words?'], 'Feels little sympathy for others': ['Why should I care when someone is upset?', 'What if I don’t feel anything when people are sad?', 'How can I understand other people’s feelings better?', \"What should I do if I don't want to help someone?\", 'Can you teach me what empathy means?', 'Why do people cry when others are sad?', 'What are ways to be more caring?', 'Can you help me feel more connected to others?', 'Why is being kind important?', \"What happens when people don't care about others?\"], 'Is respectful, treats others with respect': ['What are ways to show respect to my teacher?', 'How do I be respectful when I disagree?', 'Can you help me write a respectful thank-you note?', 'What should I do if someone isn’t respectful to me?', 'How can I show respect at home?', 'What are respectful ways to ask for help?', 'How can I speak kindly to adults?', 'What are respectful rules I can follow?', 'How do I act polite when meeting new people?', 'What does being respectful mean?'], 'Is polite, courteous to others': ['Can you teach me nice words to use every day?', 'What do I say when I meet someone new?', 'How do I say please and thank you in fun ways?', 'What are polite ways to ask for things?', 'How do I act polite at the dinner table?', 'Can you help me practice good manners?', 'What are things polite kids do?', 'Can I write a polite letter to my friend?', 'What do I do when I bump into someone?', 'How can I be courteous at school?'], 'Starts arguments with others': ['Why do I feel like arguing sometimes?', \"How do I stop myself from yelling when I'm mad?\", 'What can I do instead of fighting?', 'How do I calm down before saying something mean?', 'Can you teach me how to solve problems with words?', 'What should I do when someone disagrees with me?', 'How can I get along better with others?', 'Why do people argue even when they like each other?', 'Can you help me fix a fight with my friend?', 'What are ways to avoid arguments?'], 'Has a forgiving nature': ['How do I forgive someone who hurt my feelings?', 'Why is forgiving people a good thing?', 'Can you help me write a letter of forgiveness?', 'How can I let go of something that made me mad?', 'What should I do when someone says sorry?', 'What are things I can forgive easily?', 'How do I stop holding grudges?', 'Why does forgiveness make me feel better?', 'How do I move on after a fight?', 'Can you tell me a story about forgiving someone?'], 'Assumes the best about people': ['How do I believe the best in people?', 'What if someone makes a mistake — should I still trust them?', 'Can you tell me a story where someone turned out better than expected?', 'Why is it good to give second chances?', 'How can I stay hopeful about others?', 'What does it mean to see the good in someone?', 'How do I think positive about people?', 'Can you teach me to trust my friends more?', 'How can I stay kind even if someone was mean once?', 'Why should I believe someone is trying their best?'], 'Tends to find fault with others': ['Why do I notice when people mess up?', 'How do I stop pointing out mistakes?', 'What can I do instead of complaining?', 'Can you teach me how to focus on the good in people?', 'How do I stop being so critical?', 'What should I say when I see something wrong?', 'How can I give helpful advice without hurting feelings?', 'Why do I feel annoyed when people don’t do things my way?', 'How do I be less picky?', 'What happens when I always correct people?'], 'Is suspicious of others’ intentions': ['What does it mean to trust someone?', 'How do I stop thinking people are being mean on purpose?', 'Why do I feel like people are hiding things?', 'How do I know if I can trust a friend?', 'Can you help me understand why people act strange sometimes?', 'How do I stop thinking everyone’s against me?', 'Why is it hard for me to believe people?', 'What are signs someone is telling the truth?', 'How do I feel safe around others?', 'Can you help me give people a chance?']}\n",
    "\n",
    "Conscientiousness = {'Is systematic, likes to keep things in order': ['How do I make a list to keep my room clean?', 'Can you help me organize my school supplies?', 'What are fun ways to sort my toys?', 'How can I plan my day better?', 'Can you help me make a homework chart?', 'How do I keep things neat in my backpack?', 'What’s the best way to organize my books?', 'Can you help me create a clean-up checklist?', 'How can I stay tidy even when I’m busy?', 'What are tips to be more organized?'], 'Keeps things neat and tidy': ['What are tricks to keep my desk clean?', 'How do I fold my clothes nicely?', 'Can you help me make a morning routine?', 'What are ways to tidy my room fast?', 'How can I clean up without getting bored?', 'What are steps to keep my space looking nice?', 'How do I organize my art supplies?', 'What are cool hacks to stay neat?', 'Can you help me keep my school binder tidy?', 'What’s a fun way to clean up every day?'], 'Tends to be disorganized': ['Why do I always lose things?', 'How can I remember where I put stuff?', 'Can you help me stop making a mess?', 'How do I clean my room when it’s super messy?', 'Why is it hard for me to stay neat?', 'What can I do to stop forgetting my homework?', 'Can you teach me how to be more organized?', 'How do I plan better for school days?', 'What should I do if I’m always late?', 'How do I stop feeling overwhelmed with stuff?'], 'Is efficient, gets things done': ['How do I finish homework faster?', 'Can you help me make a quick to-do list?', 'What’s the fastest way to clean my room?', 'How do I do my chores quickly and well?', 'Can you help me plan my afternoon?', 'How do I stay focused while working?', 'What are ways to stop wasting time?', 'How can I finish a big project on time?', 'Can you help me set daily goals?', 'What are smart ways to work better?'], 'Is persistent, works until the task is finished': ['How do I keep going when I want to quit?', 'What are ways to finish what I start?', 'Can you help me not give up so easily?', 'Why is it good to keep trying?', 'How do I stay motivated when it’s hard?', 'What should I do if I get bored halfway?', 'Can you tell me a story about not giving up?', 'How can I remind myself to keep going?', 'What are things I can say to encourage myself?', 'How do I stay strong when something feels tough?'], 'Tends to be lazy': ['Why do I not want to do my chores?', 'How can I get more energy to do stuff?', 'What can I do when I feel too lazy?', 'Can you help me stop procrastinating?', 'Why is it hard for me to get started?', 'How do I push myself to move?', 'What are fun ways to be more active?', 'How can I trick myself into being productive?', 'What happens if I keep putting things off?', 'Can you help me turn lazy days into fun ones?'], 'Is dependable, steady': ['How do I show people they can count on me?', 'What are ways to be a good helper?', 'Can you help me always do what I promise?', 'How can I make people trust me more?', 'What does being dependable mean?', 'How do I remember what I said I’d do?', 'Why is being steady a good thing?', 'Can you help me stick to my word?', 'How do I act responsible at school?', 'What are ways to be more loyal to friends?'], 'Is reliable, can always be counted on': ['What does it mean to be someone others trust?', 'How can I show my friends I’ll be there for them?', 'Can you help me build good habits?', 'How do I prove I can do things well?', 'How do I not forget what others ask me?', 'Why is being reliable important?', 'How do I act mature and responsible?', 'Can you help me remember important stuff?', 'What should I do when someone needs help?', 'How do I stay calm under pressure?'], 'Can be somewhat careless': ['How do I stop making silly mistakes?', 'Why do I forget small things all the time?', 'Can you help me be more careful with my work?', 'How can I check my homework better?', 'Why do I spill or drop stuff a lot?', 'What should I do when I mess things up?', 'How do I learn to slow down?', 'How do I avoid rushing things?', 'What are ways to be more focused?', 'Can you help me practice being mindful?'], 'Sometimes behaves irresponsibly': ['Why do I forget to do important things?', 'How can I remember to feed my pet?', 'Can you teach me how to be more grown-up?', 'What happens if I don’t follow through?', 'How do I learn from my mistakes?', 'How can I be better at finishing chores?', 'What are steps to being more responsible?', 'Can you help me make a responsibility chart?', 'Why is it important to do what I say I will?', 'How do I become more trustworthy?']}\n",
    "\n",
    "NegativeEmotionality = {'Can be tense': ['Why do I feel tight in my body sometimes?', 'How do I calm down when I feel worried?', 'Can you teach me stretches to help me relax?', 'What are ways to feel less tense before school?', 'How do I stop clenching my fists when I’m nervous?', 'Can you give me breathing tricks for when I’m stressed?', 'What should I do when I feel tense for no reason?', 'Can you help me relax at bedtime?', 'What are relaxing things I can think about?', 'How can I feel more calm during tests?'], 'Worries a lot': ['What should I do if I worry all the time?', 'Can you help me stop overthinking things?', 'Why do I keep imagining bad stuff?', 'How do I feel safe when I’m scared?', 'Can you help me with a worry journal?', 'What are ways to stop nighttime worries?', 'How do I feel okay when things go wrong?', 'What should I do when I’m scared to try something new?', 'Can you tell me a story about facing fears?', 'How do I know everything will be okay?'], 'Is relaxed, handles stress well': ['How can I help others stay calm like me?', 'What are fun ways to chill out after school?', 'Can you help me teach my friend to relax?', 'Why is it good to stay calm in problems?', 'What are cool ways to keep my cool?', 'How do I stay relaxed when others are mad?', 'Can you help me make a peaceful routine?', 'What are relaxing games I can play?', 'How do I bring calm to my classroom?', 'What’s a fun way to stay cool under pressure?'], 'Often feels sad': [\"Why do I feel sad even when nothing's wrong?\", 'Can you tell me a happy story when I feel down?', 'What should I do when I want to cry?', 'How can I cheer myself up on a sad day?', 'Why do I feel left out sometimes?', 'Can you help me make a feel-better list?', 'What should I do when I miss someone?', 'How do I talk about my sad feelings?', 'What are comforting things I can do?', 'How do I turn a sad mood around?'], 'Tends to feel depressed, blue': ['Why do I feel gloomy even if it’s sunny?', 'How do I feel hopeful again?', 'What are little things that can lift my mood?', 'Can you help me get out of a blue mood?', 'Why does everything feel too hard sometimes?', 'How do I find joy again?', 'What should I do if I feel stuck in sadness?', 'Can you help me make a happy playlist?', 'What’s a positive thought I can repeat?', 'How do I stop thinking sad thoughts?'], 'Stays optimistic after experiencing a setback': ['How do I stay hopeful when something goes wrong?', 'Can you help me bounce back from a mistake?', 'Why is it good to stay positive after losing?', 'What are ways to look on the bright side?', 'How do I stay confident after failing?', 'What can I say to myself to keep going?', 'Can you tell me a story of someone who didn’t give up?', 'What should I focus on after a bad day?', 'How do I turn a problem into a lesson?', 'What does it mean to be resilient?'], 'Is moody, has up and down mood swings': ['Why do I feel happy and sad in the same day?', 'How do I handle changing moods?', 'What should I do when I suddenly feel angry?', 'Can you help me track my feelings?', 'Why do I snap at people sometimes?', 'How can I calm down after a mood swing?', 'What are safe ways to express big emotions?', 'How do I explain my moods to others?', 'Can you give me a mood journal idea?', 'What helps balance my feelings?'], 'Is temperamental, gets emotional easily': ['Why do I cry or yell really fast?', 'How can I stay calm when my feelings explode?', 'What do I do when I feel too many emotions?', 'Can you help me cool down when I’m upset?', 'Why do small things make me feel big feelings?', 'What’s a good way to let out emotions safely?', 'How do I tell people what I feel without yelling?', 'What are tricks to slow down my reactions?', 'Can I learn how to pause before reacting?', 'What should I do when I feel out of control?'], 'Is emotionally stable, not easily upset': ['How can I help others stay calm like me?', 'What are cool things about being steady?', 'Why don’t I get upset as easily as others?', 'Can you help me teach my friend to stay calm?', 'What should I do if someone else is upset?', 'How do I support a friend who cries a lot?', 'Can I help my class be more peaceful?', 'How do I stay calm when someone yells at me?', 'What are the strengths of being chill?', 'How can I spread calmness around me?'], 'Keeps their emotions under control': ['How do I stay strong when I feel upset?', 'What are smart ways to manage feelings?', 'Can you teach me emotional control tricks?', 'How do I stay calm during a test or speech?', 'What’s a cool-down routine I can try?', 'Can you help me plan what to do when I feel angry?', 'How do I deal with disappointment calmly?', 'What are ways to express feelings with words?', 'How do I not cry when I’m frustrated?', 'What helps me stay calm in tricky moments?']}\n",
    "\n",
    "OpenMindedness = {'Is curious about many different things': ['Why is the sky blue but space black?', 'Can you teach me something cool I don’t know?', 'Why do animals behave differently at night?', 'Can you tell me a weird science fact?', 'What’s something surprising about the human body?', 'How do volcanoes really work?', 'Can I learn a fun new language word today?', 'Why do some people believe in aliens?', 'How does a rainbow happen?', 'What are mysteries scientists haven’t solved yet?'], 'Is complex, a deep thinker': ['What is the meaning of life?', 'Why do people believe different things?', 'Can you explain infinity to me?', 'What is time, really?', 'Why do people dream?', 'Can you help me think about big questions?', 'Why do we feel emotions?', 'What happens after we die?', 'How do I know what’s real and what’s not?', 'Why do people have different opinions?'], 'Avoids intellectual, philosophical discussions': ['Why do I get bored when things are too deep?', \"How can I like learning even if it's hard?\", 'Why don’t I care about weird facts?', 'How do I stay interested in class discussions?', 'What if I like simple answers better?', 'Can you make smart things sound fun?', 'What should I do if I zone out in school?', 'How can I learn new stuff without getting tired?', 'Can you teach me cool facts in fun ways?', 'Why is it important to ask big questions?'], 'Is fascinated by art, music, or literature': ['Can you show me a cool drawing idea?', 'How do I write my own story?', 'Can you teach me to make a melody?', 'Why do some songs make me cry?', 'Can you help me paint something new?', 'What is poetry and can I write one?', 'How do artists get their ideas?', 'Can you help me create a comic strip?', 'What’s the story behind famous paintings?', 'Can you teach me about music from other countries?'], 'Values art and beauty': ['Why do sunsets look so pretty?', 'What makes something beautiful?', 'Can you help me find beauty in small things?', 'Why do people like art museums?', 'Can I make my own art gallery?', 'What are the prettiest places on Earth?', 'How can I take cool photos of nature?', 'What makes a song sound beautiful?', 'Can you help me design something creative?', 'Why do people cry at movies?'], 'Has few artistic interests': ['Why don’t I like drawing or music?', 'Is it okay to not care about art?', 'What are other ways to be creative?', 'How can I try art if I’m not good at it?', 'What do I do if I think art is boring?', 'Can you make music fun for me?', 'Why do people love painting so much?', 'Are there non-art hobbies I might like?', 'How can I understand poetry better?', 'What is a fun way to explore creativity?'], 'Is inventive, finds clever ways to do things': ['Can you help me invent something new?', 'How do I make my own board game?', 'What’s a cool way to solve a problem?', 'Can you help me build something from scratch?', 'How do I think outside the box?', 'Can we make a robot idea together?', 'What’s a fun invention challenge I can try?', 'Can you give me a puzzle to solve?', 'How do inventors come up with stuff?', 'Can I design my own superhero tool?'], 'Is original, comes up with new ideas': [\"How do I write a story nobody's heard before?\", 'Can you help me invent a new animal?', 'What’s a brand new holiday we could celebrate?', 'Can I create a new kind of game?', 'How do I make something that doesn’t exist yet?', 'Can you help me name a new planet?', 'What’s an idea for a school project no one’s done?', 'How do I make a cool new recipe?', 'What’s a new way to play tag?', 'Can I design my own country?'], 'Has little creativity': ['Why don’t I have many ideas?', 'How can I become more creative?', 'Can you give me imagination exercises?', 'What should I do when I feel stuck?', 'Why is it hard to think of new things?', 'Can you help me practice thinking differently?', 'What are ways to build creativity muscles?', \"How do I stop saying 'I don’t know'?\", 'Can I learn to make up fun stories?', 'How do people think of creative ideas?'], 'Has difficulty imagining things': ['How do I get better at pretending?', 'Can you help me picture things in my mind?', 'Why do I struggle with make-believe games?', 'What are tricks to use my imagination more?', 'Can you tell me how to imagine a world?', 'How can I see pictures in my head when reading?', 'Can you teach me to daydream?', 'Why is imagination important?', 'What games help build imagination?', 'How do I learn to create things in my mind?']}\n"
   ]
  },
  {
   "cell_type": "code",
   "execution_count": 7,
   "id": "85556704",
   "metadata": {},
   "outputs": [
    {
     "data": {
      "text/plain": [
       "['Is outgoing, sociable',\n",
       " 'Is talkative',\n",
       " 'Tends to be quiet',\n",
       " 'Is sometimes shy, introverted',\n",
       " 'Has an assertive personality',\n",
       " 'Is dominant, acts as a leader',\n",
       " 'Finds it hard to influence people',\n",
       " 'Prefers to have others take charge',\n",
       " 'Is full of energy',\n",
       " 'Shows a lot of enthusiasm']"
      ]
     },
     "execution_count": 7,
     "metadata": {},
     "output_type": "execute_result"
    }
   ],
   "source": [
    "[key for key in Extraversion]"
   ]
  },
  {
   "cell_type": "code",
   "execution_count": 8,
   "id": "95b61159",
   "metadata": {},
   "outputs": [
    {
     "data": {
      "text/plain": [
       "['Is compassionate, has a soft heart',\n",
       " 'Is helpful and unselfish with others',\n",
       " 'Feels little sympathy for others',\n",
       " 'Is respectful, treats others with respect',\n",
       " 'Is polite, courteous to others',\n",
       " 'Starts arguments with others',\n",
       " 'Has a forgiving nature',\n",
       " 'Assumes the best about people',\n",
       " 'Tends to find fault with others',\n",
       " 'Is suspicious of others’ intentions']"
      ]
     },
     "execution_count": 8,
     "metadata": {},
     "output_type": "execute_result"
    }
   ],
   "source": [
    "[key for key in Agreeableness]"
   ]
  },
  {
   "cell_type": "code",
   "execution_count": 9,
   "id": "ec471d2c",
   "metadata": {},
   "outputs": [
    {
     "data": {
      "text/plain": [
       "['Is systematic, likes to keep things in order',\n",
       " 'Keeps things neat and tidy',\n",
       " 'Tends to be disorganized',\n",
       " 'Is efficient, gets things done',\n",
       " 'Is persistent, works until the task is finished',\n",
       " 'Tends to be lazy',\n",
       " 'Is dependable, steady',\n",
       " 'Is reliable, can always be counted on',\n",
       " 'Can be somewhat careless',\n",
       " 'Sometimes behaves irresponsibly']"
      ]
     },
     "execution_count": 9,
     "metadata": {},
     "output_type": "execute_result"
    }
   ],
   "source": [
    "[key for key in Conscientiousness]"
   ]
  },
  {
   "cell_type": "code",
   "execution_count": 10,
   "id": "f9bcd936",
   "metadata": {},
   "outputs": [
    {
     "data": {
      "text/plain": [
       "['Can be tense',\n",
       " 'Worries a lot',\n",
       " 'Is relaxed, handles stress well',\n",
       " 'Often feels sad',\n",
       " 'Tends to feel depressed, blue',\n",
       " 'Stays optimistic after experiencing a setback',\n",
       " 'Is moody, has up and down mood swings',\n",
       " 'Is temperamental, gets emotional easily',\n",
       " 'Is emotionally stable, not easily upset',\n",
       " 'Keeps their emotions under control']"
      ]
     },
     "execution_count": 10,
     "metadata": {},
     "output_type": "execute_result"
    }
   ],
   "source": [
    "[key for key in NegativeEmotionality]"
   ]
  },
  {
   "cell_type": "code",
   "execution_count": 11,
   "id": "a6d39dd6",
   "metadata": {},
   "outputs": [
    {
     "data": {
      "text/plain": [
       "['Is curious about many different things',\n",
       " 'Is complex, a deep thinker',\n",
       " 'Avoids intellectual, philosophical discussions',\n",
       " 'Is fascinated by art, music, or literature',\n",
       " 'Values art and beauty',\n",
       " 'Has few artistic interests',\n",
       " 'Is inventive, finds clever ways to do things',\n",
       " 'Is original, comes up with new ideas',\n",
       " 'Has little creativity',\n",
       " 'Has difficulty imagining things']"
      ]
     },
     "execution_count": 11,
     "metadata": {},
     "output_type": "execute_result"
    }
   ],
   "source": [
    "[key for key in OpenMindedness]"
   ]
  }
 ],
 "metadata": {
  "kernelspec": {
   "display_name": "Python 3",
   "language": "python",
   "name": "python3"
  },
  "language_info": {
   "codemirror_mode": {
    "name": "ipython",
    "version": 3
   },
   "file_extension": ".py",
   "mimetype": "text/x-python",
   "name": "python",
   "nbconvert_exporter": "python",
   "pygments_lexer": "ipython3",
   "version": "3.11.9"
  }
 },
 "nbformat": 4,
 "nbformat_minor": 5
}
